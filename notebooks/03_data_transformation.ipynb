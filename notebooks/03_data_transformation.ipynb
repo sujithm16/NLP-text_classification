{
 "cells": [
  {
   "cell_type": "code",
   "execution_count": 1,
   "metadata": {},
   "outputs": [],
   "source": [
    "import os"
   ]
  },
  {
   "cell_type": "code",
   "execution_count": 2,
   "metadata": {},
   "outputs": [
    {
     "data": {
      "text/plain": [
       "'d:\\\\model deploy end to end\\\\NLP-text_classification\\\\notebooks'"
      ]
     },
     "execution_count": 2,
     "metadata": {},
     "output_type": "execute_result"
    }
   ],
   "source": [
    "%pwd"
   ]
  },
  {
   "cell_type": "code",
   "execution_count": 3,
   "metadata": {},
   "outputs": [],
   "source": [
    "os.chdir(\"../\")"
   ]
  },
  {
   "cell_type": "code",
   "execution_count": 4,
   "metadata": {},
   "outputs": [
    {
     "data": {
      "text/plain": [
       "'d:\\\\model deploy end to end\\\\NLP-text_classification'"
      ]
     },
     "execution_count": 4,
     "metadata": {},
     "output_type": "execute_result"
    }
   ],
   "source": [
    "%pwd"
   ]
  },
  {
   "cell_type": "code",
   "execution_count": 5,
   "metadata": {},
   "outputs": [],
   "source": [
    "from dataclasses import dataclass\n",
    "from pathlib import Path\n",
    "\n",
    "\n",
    "@dataclass(frozen=True)\n",
    "class DataTransformationConfig:\n",
    "    root_dir: Path\n",
    "    data_path: Path\n",
    "    clean_data_path: Path"
   ]
  },
  {
   "cell_type": "code",
   "execution_count": 6,
   "metadata": {},
   "outputs": [],
   "source": [
    "from src.NLPtc.constants import *\n",
    "from src.NLPtc.utils.common import read_yaml, create_directories"
   ]
  },
  {
   "cell_type": "code",
   "execution_count": 7,
   "metadata": {},
   "outputs": [],
   "source": [
    "class ConfigurationManager:\n",
    "    def __init__(\n",
    "        self,\n",
    "        config_filepath = CONFIG_FILE_PATH,\n",
    "        params_filepath = PARAMS_FILE_PATH,\n",
    "        schema_filepath = SCHEMA_FILE_PATH):\n",
    "\n",
    "        self.config = read_yaml(config_filepath)\n",
    "        self.params = read_yaml(params_filepath)\n",
    "        self.schema = read_yaml(schema_filepath)\n",
    "\n",
    "        create_directories([self.config.artifacts_root])\n",
    "\n",
    "\n",
    "    \n",
    "    def get_data_transformation_config(self) -> DataTransformationConfig:\n",
    "        config = self.config.data_transformation\n",
    "\n",
    "        create_directories([config.root_dir])\n",
    "\n",
    "        data_transformation_config = DataTransformationConfig(\n",
    "            root_dir=config.root_dir,\n",
    "            data_path=config.data_path,\n",
    "            clean_data_path=config.clean_data_path\n",
    "        )\n",
    "\n",
    "        return data_transformation_config"
   ]
  },
  {
   "cell_type": "code",
   "execution_count": 8,
   "metadata": {},
   "outputs": [],
   "source": [
    "import os\n",
    "from src.NLPtc import logger\n",
    "from sklearn.model_selection import train_test_split\n",
    "import pandas as pd\n",
    "import numpy as np\n",
    "from sklearn.feature_extraction.text import TfidfVectorizer\n"
   ]
  },
  {
   "cell_type": "code",
   "execution_count": 9,
   "metadata": {},
   "outputs": [],
   "source": [
    "class DataTransformation:\n",
    "    def __init__(self, config: DataTransformationConfig):\n",
    "        self.config = config\n",
    "    \n",
    "    def data_transform(self):\n",
    "        data= pd.read_csv(self.config.clean_data_path,sep='\\t',names=['text','label'])\n",
    "        \n",
    "        cor = data['text']\n",
    "        tv = TfidfVectorizer(max_features=2500)\n",
    "        x = tv.fit_transform(cor).toarray()\n",
    "        x = pd.DataFrame(x)\n",
    "        y = pd.get_dummies(data['label'],dtype=int,drop_first=True)\n",
    "        \n",
    "        X_train, X_test, y_train, y_test = train_test_split(x, y, test_size = 0.20, random_state = 0)\n",
    "        \n",
    "        X_train.to_csv(os.path.join(self.config.root_dir, \"xtrain.csv\"),index = False)\n",
    "        X_test.to_csv(os.path.join(self.config.root_dir, \"xtest.csv\"),index = False)\n",
    "        y_train.to_csv(os.path.join(self.config.root_dir, \"ytrain.csv\"),index = False)\n",
    "        y_test.to_csv(os.path.join(self.config.root_dir, \"ytest.csv\"),index = False)\n",
    "        \n",
    "        logger.info(X_train.shape)\n",
    "        logger.info(X_test.shape)\n",
    "        logger.info(y_train.shape)\n",
    "        logger.info(y_test.shape)"
   ]
  },
  {
   "cell_type": "code",
   "execution_count": 10,
   "metadata": {},
   "outputs": [
    {
     "name": "stdout",
     "output_type": "stream",
     "text": [
      "[2023-10-03 22:41:22,394: INFO: common: yaml file: D:\\model deploy end to end\\NLP-text_classification\\config\\config.yaml loaded successfully]\n",
      "[2023-10-03 22:41:22,397: INFO: common: yaml file: D:\\model deploy end to end\\NLP-text_classification\\params.yaml loaded successfully]\n",
      "[2023-10-03 22:41:22,403: INFO: common: yaml file: D:\\model deploy end to end\\NLP-text_classification\\schema.yaml loaded successfully]\n",
      "[2023-10-03 22:41:22,408: INFO: common: created directory at: artifacts]\n",
      "[2023-10-03 22:41:22,410: INFO: common: created directory at: artifacts/data_transformation]\n",
      "[2023-10-03 22:41:29,036: INFO: 1164633394: (4455, 2500)]\n",
      "[2023-10-03 22:41:29,036: INFO: 1164633394: (1114, 2500)]\n",
      "[2023-10-03 22:41:29,036: INFO: 1164633394: (4455, 0)]\n",
      "[2023-10-03 22:41:29,036: INFO: 1164633394: (1114, 0)]\n"
     ]
    }
   ],
   "source": [
    "try:\n",
    "    config = ConfigurationManager()\n",
    "    data_transformation_config = config.get_data_transformation_config()\n",
    "    data_transformation = DataTransformation(config=data_transformation_config)\n",
    "    data_transformation.data_transform()\n",
    "\n",
    "except Exception as e:\n",
    "    raise e"
   ]
  },
  {
   "cell_type": "code",
   "execution_count": null,
   "metadata": {},
   "outputs": [],
   "source": []
  }
 ],
 "metadata": {
  "kernelspec": {
   "display_name": "mlproj",
   "language": "python",
   "name": "python3"
  },
  "language_info": {
   "codemirror_mode": {
    "name": "ipython",
    "version": 3
   },
   "file_extension": ".py",
   "mimetype": "text/x-python",
   "name": "python",
   "nbconvert_exporter": "python",
   "pygments_lexer": "ipython3",
   "version": "3.10.6"
  },
  "orig_nbformat": 4
 },
 "nbformat": 4,
 "nbformat_minor": 2
}
